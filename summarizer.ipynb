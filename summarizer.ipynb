{
 "cells": [
  {
   "cell_type": "code",
   "execution_count": 3,
   "metadata": {},
   "outputs": [],
   "source": [
    "from transformers import pipeline \n",
    "from bs4 import BeautifulSoup\n",
    "import requests"
   ]
  },
  {
   "cell_type": "code",
   "execution_count": 37,
   "metadata": {},
   "outputs": [],
   "source": [
    "def get_website_text(URL):\n",
    "    # Get the raw text from a URL\n",
    "    r = requests.get(URL)\n",
    "    soup = BeautifulSoup(r.text, 'html.parser')\n",
    "    results = soup.find_all(['h2', 'p'])\n",
    "    text  = [result.text for result in results]\n",
    "\n",
    "    # Join all the texts together\n",
    "    article = ' '.join(text)\n",
    "\n",
    "    # Break up blog post into sentences\n",
    "    article = article.replace('.', '.<eos>')\n",
    "    article = article.replace('!', '!<eos>')\n",
    "    article = article.replace('?', '?<eos>')\n",
    "    sentences = article.split('<eos>')\n",
    "    return sentences\n",
    "\n",
    "def chunk_text(sentences):\n",
    "    max_chunk = 500\n",
    "    current_chunk = 0\n",
    "    chunks = []\n",
    "\n",
    "    # Create chunks with not more than 500 words\n",
    "    for sentence in sentences:\n",
    "        if len(chunks) == current_chunk + 1:\n",
    "            if len(chunks[current_chunk]) + len(sentence.split(' ')) <= max_chunk:\n",
    "                chunks[current_chunk].extend(sentence.split(' '))\n",
    "            else:\n",
    "                current_chunk += 1\n",
    "                chunks.append(sentence.split(' '))\n",
    "        \n",
    "        else:\n",
    "            print(current_chunk)\n",
    "            chunks.append(sentence.split(' '))\n",
    "\n",
    "    # Join chunks back together\n",
    "    for chunk_id in range(len(chunks)):\n",
    "        chunks[chunk_id] = ' '.join(chunks[chunk_id])\n",
    "\n",
    "    return chunks\n",
    "\n",
    "def load_and_summarize(chunks, max_length, min_lenght):\n",
    "    # Load in the summarizer\n",
    "    summarizer = pipeline('summarization')\n",
    "\n",
    "    # Write a summary for each chunk\n",
    "    res = summarizer(chunks, max_length=max_length, min_length=min_lenght, do_sample=False)\n",
    "\n",
    "    # Append the individual chunks back together\n",
    "    summary = ' '.join(summ['summary_text'] for summ in res)\n",
    "    return summary"
   ]
  },
  {
   "cell_type": "code",
   "execution_count": 51,
   "metadata": {},
   "outputs": [
    {
     "name": "stderr",
     "output_type": "stream",
     "text": [
      "No model was supplied, defaulted to sshleifer/distilbart-cnn-12-6 and revision a4f8f3e (https://huggingface.co/sshleifer/distilbart-cnn-12-6).\n",
      "Using a pipeline without specifying a model name and revision in production is not recommended.\n"
     ]
    },
    {
     "name": "stdout",
     "output_type": "stream",
     "text": [
      "0\n"
     ]
    }
   ],
   "source": [
    "URL = \"https://www.kern.ai/post/fine-tune-your-embeddings-for-better-similarity-search\"\n",
    "\n",
    "sentences = get_website_text(URL)\n",
    "chunks = chunk_text(sentences)\n",
    "summary = load_and_summarize(chunks, 60, 30)"
   ]
  },
  {
   "cell_type": "code",
   "execution_count": 52,
   "metadata": {},
   "outputs": [
    {
     "data": {
      "text/plain": [
       "\" This blog post will share our experience with fine-tuning sentence embeddings on a commonly available dataset using similarity learning . We additionally explore how this could benefit the labeling workflow in Kern refinery .  Quaterion is able to use different kinds of similarity information in order to fine-tune the embeddings . The goal is to learn a mapping from one embedding to another . For that we are going to use a pre-trained LLM as the encoder and add  The training details are covered by Quaterion for us, which uses PyTorch Lightning under the hood . The optimizer (we chose Adam) is specified in the model itself, we just need to call the fit method . The test data consists of the 9. 156 (al  Quaterion's neighbor-based similarity improved w. r. t. classification but this linear classification model did not find it easier to separate the classes from one another . We are working on methods to fine-tune embeddings leading to a better separation of classes in the 2\""
      ]
     },
     "execution_count": 52,
     "metadata": {},
     "output_type": "execute_result"
    }
   ],
   "source": [
    "summary"
   ]
  },
  {
   "cell_type": "code",
   "execution_count": 53,
   "metadata": {},
   "outputs": [],
   "source": [
    "with open('blog_summary.txt', 'w') as f:\n",
    "    f.write(summary)"
   ]
  },
  {
   "cell_type": "code",
   "execution_count": null,
   "metadata": {},
   "outputs": [],
   "source": []
  }
 ],
 "metadata": {
  "kernelspec": {
   "display_name": "Python 3.9.2 64-bit",
   "language": "python",
   "name": "python3"
  },
  "language_info": {
   "codemirror_mode": {
    "name": "ipython",
    "version": 3
   },
   "file_extension": ".py",
   "mimetype": "text/x-python",
   "name": "python",
   "nbconvert_exporter": "python",
   "pygments_lexer": "ipython3",
   "version": "3.9.2"
  },
  "orig_nbformat": 4,
  "vscode": {
   "interpreter": {
    "hash": "d37735ab87abccc8139abe988438c739cb03a9d8c6c58871ebffce8beac18701"
   }
  }
 },
 "nbformat": 4,
 "nbformat_minor": 2
}
