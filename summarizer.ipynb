{
 "cells": [
  {
   "cell_type": "code",
   "execution_count": 3,
   "metadata": {},
   "outputs": [],
   "source": [
    "from transformers import pipeline \n",
    "from bs4 import BeautifulSoup\n",
    "import requests"
   ]
  },
  {
   "cell_type": "code",
   "execution_count": 37,
   "metadata": {},
   "outputs": [],
   "source": [
    "def get_website_text(URL):\n",
    "    # Get the raw text from a URL\n",
    "    r = requests.get(URL)\n",
    "    soup = BeautifulSoup(r.text, 'html.parser')\n",
    "    results = soup.find_all(['h2', 'p'])\n",
    "    text  = [result.text for result in results]\n",
    "\n",
    "    # Join all the texts together\n",
    "    article = ' '.join(text)\n",
    "\n",
    "    # Break up blog post into sentences\n",
    "    article = article.replace('.', '.<eos>')\n",
    "    article = article.replace('!', '!<eos>')\n",
    "    article = article.replace('?', '?<eos>')\n",
    "    sentences = article.split('<eos>')\n",
    "    return sentences\n",
    "\n",
    "def chunk_text(sentences):\n",
    "    max_chunk = 500\n",
    "    current_chunk = 0\n",
    "    chunks = []\n",
    "\n",
    "    # Create chunks with not more than 500 words\n",
    "    for sentence in sentences:\n",
    "        if len(chunks) == current_chunk + 1:\n",
    "            if len(chunks[current_chunk]) + len(sentence.split(' ')) <= max_chunk:\n",
    "                chunks[current_chunk].extend(sentence.split(' '))\n",
    "            else:\n",
    "                current_chunk += 1\n",
    "                chunks.append(sentence.split(' '))\n",
    "        \n",
    "        else:\n",
    "            print(current_chunk)\n",
    "            chunks.append(sentence.split(' '))\n",
    "\n",
    "    # Join chunks back together\n",
    "    for chunk_id in range(len(chunks)):\n",
    "        chunks[chunk_id] = ' '.join(chunks[chunk_id])\n",
    "\n",
    "    return chunks\n",
    "\n",
    "def load_and_summarize(chunks, max_length, min_lenght):\n",
    "    # Load in the summarizer\n",
    "    summarizer = pipeline('summarization')\n",
    "\n",
    "    # Write a summary for each chunk\n",
    "    res = summarizer(chunks, max_length=max_length, min_length=min_lenght, do_sample=False)\n",
    "\n",
    "    # Append the individual chunks back together\n",
    "    summary = ' '.join(summ['summary_text'] for summ in res)\n",
    "    return summary"
   ]
  },
  {
   "cell_type": "code",
   "execution_count": null,
   "metadata": {},
   "outputs": [],
   "source": [
    "# Paste URL of a blog article here\n",
    "URL = \"url-goes-here\"\n",
    "\n",
    "# Summarizes the article\n",
    "sentences = get_website_text(URL)\n",
    "chunks = chunk_text(sentences)\n",
    "summary = load_and_summarize(chunks, 60, 30)"
   ]
  },
  {
   "cell_type": "code",
   "execution_count": 53,
   "metadata": {},
   "outputs": [],
   "source": [
    "# Save summary to a text file\n",
    "with open('blog_summary.txt', 'w') as f:\n",
    "    f.write(summary)"
   ]
  },
  {
   "cell_type": "code",
   "execution_count": null,
   "metadata": {},
   "outputs": [],
   "source": []
  }
 ],
 "metadata": {
  "kernelspec": {
   "display_name": "Python 3.9.2 64-bit",
   "language": "python",
   "name": "python3"
  },
  "language_info": {
   "codemirror_mode": {
    "name": "ipython",
    "version": 3
   },
   "file_extension": ".py",
   "mimetype": "text/x-python",
   "name": "python",
   "nbconvert_exporter": "python",
   "pygments_lexer": "ipython3",
   "version": "3.9.2"
  },
  "orig_nbformat": 4,
  "vscode": {
   "interpreter": {
    "hash": "d37735ab87abccc8139abe988438c739cb03a9d8c6c58871ebffce8beac18701"
   }
  }
 },
 "nbformat": 4,
 "nbformat_minor": 2
}
